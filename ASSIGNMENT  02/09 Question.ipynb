{
 "cells": [
  {
   "cell_type": "code",
   "execution_count": 1,
   "id": "13ccb949-9e13-4cda-84fa-0f590dae03cf",
   "metadata": {},
   "outputs": [],
   "source": [
    "#Question 09.  Create a variable named name and assign your full name to it as a string. How would you print the value of this variable?"
   ]
  },
  {
   "cell_type": "code",
   "execution_count": 2,
   "id": "8b7b9f43-a0ed-4298-9184-0525ae4e6935",
   "metadata": {},
   "outputs": [
    {
     "name": "stdout",
     "output_type": "stream",
     "text": [
      "Sid Gupta\n"
     ]
    }
   ],
   "source": [
    "# Declairing a variable\n",
    "name = 'Sid Gupta'\n",
    "\n",
    "# print the value of variable name:\n",
    "print(name)"
   ]
  },
  {
   "cell_type": "code",
   "execution_count": null,
   "id": "ee9e0887-cdf3-4768-8d69-36986d08de8a",
   "metadata": {},
   "outputs": [],
   "source": []
  }
 ],
 "metadata": {
  "kernelspec": {
   "display_name": "Python 3 (ipykernel)",
   "language": "python",
   "name": "python3"
  },
  "language_info": {
   "codemirror_mode": {
    "name": "ipython",
    "version": 3
   },
   "file_extension": ".py",
   "mimetype": "text/x-python",
   "name": "python",
   "nbconvert_exporter": "python",
   "pygments_lexer": "ipython3",
   "version": "3.10.8"
  }
 },
 "nbformat": 4,
 "nbformat_minor": 5
}
