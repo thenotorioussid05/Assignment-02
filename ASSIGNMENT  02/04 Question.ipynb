{
 "cells": [
  {
   "cell_type": "code",
   "execution_count": 1,
   "id": "57d5520a-a58d-4f13-9d08-85ab9018e723",
   "metadata": {},
   "outputs": [],
   "source": [
    "#Question 04.  How do you write and execute a Python script from the command line?"
   ]
  },
  {
   "cell_type": "code",
   "execution_count": 2,
   "id": "0836270e-624d-43b5-866c-a9128df8aa8a",
   "metadata": {},
   "outputs": [],
   "source": [
    "# To run Python scripts with the python command, we need to open a command-line and type in the word python followed by the path to our script, just like this:\n",
    "#python main.py\n",
    "\n",
    "#Welcome to PWskills!\n",
    "\n",
    "#If everything works okay, after we press Enter, we’ll see the phrase Welcome to PWskills! on our screen.\n",
    "#In this way we can write and execute a Python script from the command line."
   ]
  },
  {
   "cell_type": "code",
   "execution_count": null,
   "id": "a8ced8cd-96d8-41d0-b519-51ea87c6b571",
   "metadata": {},
   "outputs": [],
   "source": []
  }
 ],
 "metadata": {
  "kernelspec": {
   "display_name": "Python 3 (ipykernel)",
   "language": "python",
   "name": "python3"
  },
  "language_info": {
   "codemirror_mode": {
    "name": "ipython",
    "version": 3
   },
   "file_extension": ".py",
   "mimetype": "text/x-python",
   "name": "python",
   "nbconvert_exporter": "python",
   "pygments_lexer": "ipython3",
   "version": "3.10.8"
  }
 },
 "nbformat": 4,
 "nbformat_minor": 5
}
