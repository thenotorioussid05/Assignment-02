{
 "cells": [
  {
   "cell_type": "code",
   "execution_count": 3,
   "id": "8f358650-7abb-4096-aea2-314c4a6efc91",
   "metadata": {},
   "outputs": [],
   "source": [
    "#Question 01. How do you comment code in Python? What are the different types of comments?"
   ]
  },
  {
   "cell_type": "code",
   "execution_count": 1,
   "id": "a4b085e3-3ff4-4640-8ee3-d095761e138a",
   "metadata": {},
   "outputs": [],
   "source": [
    "#In python, we can comment code by using the “#” symbol at the beginning of each line of the comment."
   ]
  },
  {
   "cell_type": "code",
   "execution_count": 2,
   "id": "0ffd797b-885c-4410-81ee-e53b5c03cee9",
   "metadata": {},
   "outputs": [],
   "source": [
    "#There are two different types of comments.They are - \n",
    " # 1. Single-line Comments\n",
    " # 2. Multi-line Comments   "
   ]
  }
 ],
 "metadata": {
  "kernelspec": {
   "display_name": "Python 3 (ipykernel)",
   "language": "python",
   "name": "python3"
  },
  "language_info": {
   "codemirror_mode": {
    "name": "ipython",
    "version": 3
   },
   "file_extension": ".py",
   "mimetype": "text/x-python",
   "name": "python",
   "nbconvert_exporter": "python",
   "pygments_lexer": "ipython3",
   "version": "3.10.8"
  }
 },
 "nbformat": 4,
 "nbformat_minor": 5
}
