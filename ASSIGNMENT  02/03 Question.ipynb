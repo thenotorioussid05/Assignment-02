{
 "cells": [
  {
   "cell_type": "code",
   "execution_count": 1,
   "id": "44d72f38-d132-4607-a91b-6d645337cbd5",
   "metadata": {},
   "outputs": [],
   "source": [
    "#Question 03. How do you convert one data type to another in Python?\n"
   ]
  },
  {
   "cell_type": "code",
   "execution_count": 2,
   "id": "1e3cd0e4-6e7c-43ea-9983-701c06212816",
   "metadata": {},
   "outputs": [],
   "source": [
    "#In Python, we can convert one data type to another by Type Casting. Type Casting is the method to convert the Python variable datatype into a certain data type in order to the operation required to be performed by users."
   ]
  },
  {
   "cell_type": "code",
   "execution_count": 3,
   "id": "9e78f1f6-b41a-46dd-a359-c25466d48869",
   "metadata": {},
   "outputs": [],
   "source": [
    "# Mainly Type Casting can be done with these data type functions:\n",
    "\n",
    "#1. Int(): Python Int() function take float or string as an argument and returns int type object.\n",
    "#2. float(): Python float() function take int or string as an argument and return float type object.\n",
    "#3. str(): Python str() function takes float or int as an argument and returns string type object."
   ]
  },
  {
   "cell_type": "code",
   "execution_count": null,
   "id": "1934c0b6-c250-45d2-b8c9-503a2f4bcc2e",
   "metadata": {},
   "outputs": [],
   "source": []
  }
 ],
 "metadata": {
  "kernelspec": {
   "display_name": "Python 3 (ipykernel)",
   "language": "python",
   "name": "python3"
  },
  "language_info": {
   "codemirror_mode": {
    "name": "ipython",
    "version": 3
   },
   "file_extension": ".py",
   "mimetype": "text/x-python",
   "name": "python",
   "nbconvert_exporter": "python",
   "pygments_lexer": "ipython3",
   "version": "3.10.8"
  }
 },
 "nbformat": 4,
 "nbformat_minor": 5
}
