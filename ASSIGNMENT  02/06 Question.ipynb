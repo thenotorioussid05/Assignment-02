{
 "cells": [
  {
   "cell_type": "code",
   "execution_count": 1,
   "id": "00e823a5-7ff9-47ed-b765-d919cabd0a6a",
   "metadata": {},
   "outputs": [],
   "source": [
    "#Question 06.  What is a complex number in mathematics, and how is it represented in Python?"
   ]
  },
  {
   "cell_type": "code",
   "execution_count": 2,
   "id": "a9e297fe-e6ac-42ea-bf43-d94688154c36",
   "metadata": {},
   "outputs": [],
   "source": [
    "# In Mathematics, a complex number is a number of the form a + bi, where a and b are real numbers, and i = √-1. For a complex number z = a + ib,'a' is called the real part which is denoted by Re(z), and 'b' is called the imaginary part Im(z). Also, ib is called an imaginary number."
   ]
  },
  {
   "cell_type": "code",
   "execution_count": 4,
   "id": "6dbf5fcf-952a-4ef4-844f-c7d3bc26c47f",
   "metadata": {},
   "outputs": [
    {
     "name": "stdout",
     "output_type": "stream",
     "text": [
      "(20+45j) <class 'complex'>\n"
     ]
    }
   ],
   "source": [
    "# Representation of a complex number in python :\n",
    "# In python, the imaginare part in a complex number is represented by j\n",
    "a = 20 + 45j\n",
    "print(a,type(a))"
   ]
  },
  {
   "cell_type": "code",
   "execution_count": null,
   "id": "6ead7b4b-95db-43f0-9d86-31450d37b36e",
   "metadata": {},
   "outputs": [],
   "source": []
  }
 ],
 "metadata": {
  "kernelspec": {
   "display_name": "Python 3 (ipykernel)",
   "language": "python",
   "name": "python3"
  },
  "language_info": {
   "codemirror_mode": {
    "name": "ipython",
    "version": 3
   },
   "file_extension": ".py",
   "mimetype": "text/x-python",
   "name": "python",
   "nbconvert_exporter": "python",
   "pygments_lexer": "ipython3",
   "version": "3.10.8"
  }
 },
 "nbformat": 4,
 "nbformat_minor": 5
}
