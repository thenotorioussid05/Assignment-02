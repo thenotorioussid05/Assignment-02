{
 "cells": [
  {
   "cell_type": "code",
   "execution_count": 1,
   "id": "6f36626a-380f-4883-a5ba-1b2f9686ed59",
   "metadata": {},
   "outputs": [],
   "source": [
    "#Question 11. . Create a variable named \"is_student\" and assign it a boolean value indicating whether you are currently a student or not."
   ]
  },
  {
   "cell_type": "code",
   "execution_count": 2,
   "id": "f6e95291-f97a-4fce-b2f5-9e28376056ae",
   "metadata": {},
   "outputs": [
    {
     "name": "stdout",
     "output_type": "stream",
     "text": [
      "True\n"
     ]
    }
   ],
   "source": [
    "# Creating a variable and assigning it a boolean value indicating whether i am currently a student or not.\n",
    "is_student = True\n",
    "print (is_student)"
   ]
  },
  {
   "cell_type": "code",
   "execution_count": null,
   "id": "daf1006d-c3ce-469d-8e67-40956c7d74ef",
   "metadata": {},
   "outputs": [],
   "source": []
  }
 ],
 "metadata": {
  "kernelspec": {
   "display_name": "Python 3 (ipykernel)",
   "language": "python",
   "name": "python3"
  },
  "language_info": {
   "codemirror_mode": {
    "name": "ipython",
    "version": 3
   },
   "file_extension": ".py",
   "mimetype": "text/x-python",
   "name": "python",
   "nbconvert_exporter": "python",
   "pygments_lexer": "ipython3",
   "version": "3.10.8"
  }
 },
 "nbformat": 4,
 "nbformat_minor": 5
}
