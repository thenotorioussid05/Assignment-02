{
 "cells": [
  {
   "cell_type": "code",
   "execution_count": 1,
   "id": "9e3cf82b-0b4c-4d51-b993-901dbc6e28e1",
   "metadata": {},
   "outputs": [],
   "source": [
    "#Question 10. Given the string \"Hello, World!\", extract the substring \"World\"."
   ]
  },
  {
   "cell_type": "code",
   "execution_count": 2,
   "id": "aa9a84af-14d1-4cf6-8b50-c05265b22ebc",
   "metadata": {},
   "outputs": [
    {
     "data": {
      "text/plain": [
       "'World'"
      ]
     },
     "execution_count": 2,
     "metadata": {},
     "output_type": "execute_result"
    }
   ],
   "source": [
    "# Creatig a variable (var) and assigning it the given string :\n",
    "var = 'Hello, World!'\n",
    "\n",
    "# Extracting the value 'World' :\n",
    "var [7:12]"
   ]
  },
  {
   "cell_type": "code",
   "execution_count": null,
   "id": "ce5efd1d-f327-4ea6-b73e-86553d2e41be",
   "metadata": {},
   "outputs": [],
   "source": []
  }
 ],
 "metadata": {
  "kernelspec": {
   "display_name": "Python 3 (ipykernel)",
   "language": "python",
   "name": "python3"
  },
  "language_info": {
   "codemirror_mode": {
    "name": "ipython",
    "version": 3
   },
   "file_extension": ".py",
   "mimetype": "text/x-python",
   "name": "python",
   "nbconvert_exporter": "python",
   "pygments_lexer": "ipython3",
   "version": "3.10.8"
  }
 },
 "nbformat": 4,
 "nbformat_minor": 5
}
