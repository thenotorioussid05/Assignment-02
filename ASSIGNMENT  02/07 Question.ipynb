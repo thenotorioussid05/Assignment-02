{
 "cells": [
  {
   "cell_type": "code",
   "execution_count": 1,
   "id": "8aecbc7e-65b9-47e3-83af-15223a9f51f4",
   "metadata": {},
   "outputs": [],
   "source": [
    "#Question 07.  What is the correct way to declare a variable named age and assign the value 25 to it?\n",
    "\n"
   ]
  },
  {
   "cell_type": "code",
   "execution_count": 4,
   "id": "2f3f8884-5f34-43d4-94a6-0cc56aa1ae5e",
   "metadata": {},
   "outputs": [
    {
     "name": "stdout",
     "output_type": "stream",
     "text": [
      "25\n"
     ]
    }
   ],
   "source": [
    "# The correct way to declare a variable and assigned it a value :\n",
    "age = 25\n",
    "print (age)"
   ]
  },
  {
   "cell_type": "code",
   "execution_count": null,
   "id": "762a661d-a70a-46b9-8be5-a56e57aaea21",
   "metadata": {},
   "outputs": [],
   "source": []
  }
 ],
 "metadata": {
  "kernelspec": {
   "display_name": "Python 3 (ipykernel)",
   "language": "python",
   "name": "python3"
  },
  "language_info": {
   "codemirror_mode": {
    "name": "ipython",
    "version": 3
   },
   "file_extension": ".py",
   "mimetype": "text/x-python",
   "name": "python",
   "nbconvert_exporter": "python",
   "pygments_lexer": "ipython3",
   "version": "3.10.8"
  }
 },
 "nbformat": 4,
 "nbformat_minor": 5
}
