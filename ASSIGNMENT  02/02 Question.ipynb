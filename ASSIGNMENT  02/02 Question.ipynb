{
 "cells": [
  {
   "cell_type": "code",
   "execution_count": 3,
   "id": "a9d15747-cc82-4a12-9ce0-3b1785201528",
   "metadata": {},
   "outputs": [],
   "source": [
    "#Question 02. What are variables in Python? How do you declare and assign values to variables?"
   ]
  },
  {
   "cell_type": "code",
   "execution_count": 4,
   "id": "0a02fd0b-e222-44a5-8ea0-c760373e7179",
   "metadata": {},
   "outputs": [],
   "source": [
    "# Variables are the reserved memory locations to store values. In Python, the Python interpreter allocates RAM to the variable based on its data type. Thus, one can store integers, decimals, or characters in Python variables, and data types are generally assigned to them later.\n",
    "\n"
   ]
  },
  {
   "cell_type": "code",
   "execution_count": 5,
   "id": "10e846e5-7a3e-47f9-b61b-c7864e7ec81e",
   "metadata": {},
   "outputs": [],
   "source": [
    "# In Python, we need not declare a variable with some specific data type. Python has no command for declaring a variable. A variable is created when some value is assigned to it. The value assigned to a variable determines the data type of that variable."
   ]
  },
  {
   "cell_type": "code",
   "execution_count": 6,
   "id": "790b6ca2-26da-4beb-bdf1-4438a523022d",
   "metadata": {},
   "outputs": [],
   "source": [
    "# Thus, declaring a variable in Python is very simple.\n",
    "\n",
    "#1.Just name the variable.\n",
    "\n",
    "#2.Assign the required value to it.\n",
    "\n",
    "#3.The data type of the variable will be automatically determined from the value assigned, we need not define it explicitly"
   ]
  },
  {
   "cell_type": "code",
   "execution_count": 8,
   "id": "90284338-db08-4454-a4df-1d7753c64062",
   "metadata": {},
   "outputs": [
    {
     "name": "stdout",
     "output_type": "stream",
     "text": [
      "Sid <class 'str'>\n"
     ]
    }
   ],
   "source": [
    "#For Example - \n",
    "# To declare an string variable :\n",
    "# Name the variable (a)\n",
    "# Assign an integer value to t (2)\n",
    "a = \"Sid\"\n",
    "print(a,type(a))"
   ]
  },
  {
   "cell_type": "code",
   "execution_count": null,
   "id": "60070625-20f7-4ff8-9d70-081cf43d1c8d",
   "metadata": {},
   "outputs": [],
   "source": []
  }
 ],
 "metadata": {
  "kernelspec": {
   "display_name": "Python 3 (ipykernel)",
   "language": "python",
   "name": "python3"
  },
  "language_info": {
   "codemirror_mode": {
    "name": "ipython",
    "version": 3
   },
   "file_extension": ".py",
   "mimetype": "text/x-python",
   "name": "python",
   "nbconvert_exporter": "python",
   "pygments_lexer": "ipython3",
   "version": "3.10.8"
  }
 },
 "nbformat": 4,
 "nbformat_minor": 5
}
