{
 "cells": [
  {
   "cell_type": "code",
   "execution_count": 1,
   "id": "9c1b4cb8-9c3c-408c-be5a-865beab90ba8",
   "metadata": {},
   "outputs": [],
   "source": [
    "#Question 05. Given a list my_list = [1, 2, 3, 4, 5], write the code to slice the list and obtain the sub-list [2, 3]."
   ]
  },
  {
   "cell_type": "code",
   "execution_count": 2,
   "id": "f54897d7-67f3-4340-9bd1-6838fcce7978",
   "metadata": {},
   "outputs": [
    {
     "name": "stdout",
     "output_type": "stream",
     "text": [
      "The sub-list is [2, 3]\n"
     ]
    }
   ],
   "source": [
    "# The given list is:\n",
    "my_list = [1,2,3,4,5]\n",
    "\n",
    "# Slicing the list to obtain the required lis:\n",
    "my_list [1:3]\n",
    "\n",
    "# Displaying the sub-list :\n",
    "print (\"The sub-list is\",my_list [1:3])"
   ]
  },
  {
   "cell_type": "code",
   "execution_count": null,
   "id": "0a02944d-88e8-4002-a25b-b9a4ba915dde",
   "metadata": {},
   "outputs": [],
   "source": []
  }
 ],
 "metadata": {
  "kernelspec": {
   "display_name": "Python 3 (ipykernel)",
   "language": "python",
   "name": "python3"
  },
  "language_info": {
   "codemirror_mode": {
    "name": "ipython",
    "version": 3
   },
   "file_extension": ".py",
   "mimetype": "text/x-python",
   "name": "python",
   "nbconvert_exporter": "python",
   "pygments_lexer": "ipython3",
   "version": "3.10.8"
  }
 },
 "nbformat": 4,
 "nbformat_minor": 5
}
