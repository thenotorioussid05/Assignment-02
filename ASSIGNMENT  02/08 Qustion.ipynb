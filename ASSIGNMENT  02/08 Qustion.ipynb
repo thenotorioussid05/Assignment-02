{
 "cells": [
  {
   "cell_type": "code",
   "execution_count": 1,
   "id": "1fccdb76-c743-4f21-9b57-d372151b9f0e",
   "metadata": {},
   "outputs": [],
   "source": [
    "#Question 08. Declare a variable named price and assign the value 9.99 to it. What data type does this variable belong to?"
   ]
  },
  {
   "cell_type": "code",
   "execution_count": 3,
   "id": "4301ea2b-3d7f-4d27-b6c4-382827bb8ca2",
   "metadata": {},
   "outputs": [
    {
     "name": "stdout",
     "output_type": "stream",
     "text": [
      "9.99\n",
      "<class 'float'>\n"
     ]
    }
   ],
   "source": [
    "# Declaring a valriable named price and assign it the value 9.99 :\n",
    "price = 9.99\n",
    "print(price)\n",
    "\n",
    "# Displaying the data type of price variable :\n",
    "print(type(price))\n"
   ]
  },
  {
   "cell_type": "code",
   "execution_count": null,
   "id": "736c2fdd-440e-4b90-98ad-d74e78e5cf54",
   "metadata": {},
   "outputs": [],
   "source": []
  }
 ],
 "metadata": {
  "kernelspec": {
   "display_name": "Python 3 (ipykernel)",
   "language": "python",
   "name": "python3"
  },
  "language_info": {
   "codemirror_mode": {
    "name": "ipython",
    "version": 3
   },
   "file_extension": ".py",
   "mimetype": "text/x-python",
   "name": "python",
   "nbconvert_exporter": "python",
   "pygments_lexer": "ipython3",
   "version": "3.10.8"
  }
 },
 "nbformat": 4,
 "nbformat_minor": 5
}
